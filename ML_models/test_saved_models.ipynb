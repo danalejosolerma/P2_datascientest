{
 "cells": [
  {
   "cell_type": "code",
   "execution_count": 4,
   "id": "d169eecd",
   "metadata": {},
   "outputs": [],
   "source": [
    "# Testing the models\n",
    "import json\n",
    "import joblib\n",
    "import numpy as np\n",
    "import pandas as pd\n",
    "from sklearn.metrics import recall_score, accuracy_score"
   ]
  },
  {
   "cell_type": "code",
   "execution_count": 10,
   "id": "92d4508e",
   "metadata": {},
   "outputs": [
    {
     "data": {
      "text/html": [
       "<div>\n",
       "<style scoped>\n",
       "    .dataframe tbody tr th:only-of-type {\n",
       "        vertical-align: middle;\n",
       "    }\n",
       "\n",
       "    .dataframe tbody tr th {\n",
       "        vertical-align: top;\n",
       "    }\n",
       "\n",
       "    .dataframe thead th {\n",
       "        text-align: right;\n",
       "    }\n",
       "</style>\n",
       "<table border=\"1\" class=\"dataframe\">\n",
       "  <thead>\n",
       "    <tr style=\"text-align: right;\">\n",
       "      <th></th>\n",
       "      <th>purchase_value</th>\n",
       "      <th>device_id</th>\n",
       "      <th>ip_address</th>\n",
       "      <th>tot_time</th>\n",
       "      <th>is_fraud</th>\n",
       "    </tr>\n",
       "  </thead>\n",
       "  <tbody>\n",
       "    <tr>\n",
       "      <th>102999</th>\n",
       "      <td>32.0</td>\n",
       "      <td>95522</td>\n",
       "      <td>98104</td>\n",
       "      <td>-0.000559</td>\n",
       "      <td>1</td>\n",
       "    </tr>\n",
       "    <tr>\n",
       "      <th>107804</th>\n",
       "      <td>63.0</td>\n",
       "      <td>99824</td>\n",
       "      <td>102638</td>\n",
       "      <td>-0.000371</td>\n",
       "      <td>1</td>\n",
       "    </tr>\n",
       "    <tr>\n",
       "      <th>74016</th>\n",
       "      <td>11.0</td>\n",
       "      <td>69380</td>\n",
       "      <td>70666</td>\n",
       "      <td>-0.001954</td>\n",
       "      <td>0</td>\n",
       "    </tr>\n",
       "    <tr>\n",
       "      <th>55019</th>\n",
       "      <td>13.0</td>\n",
       "      <td>51988</td>\n",
       "      <td>52699</td>\n",
       "      <td>-0.000400</td>\n",
       "      <td>0</td>\n",
       "    </tr>\n",
       "    <tr>\n",
       "      <th>5286</th>\n",
       "      <td>20.0</td>\n",
       "      <td>5219</td>\n",
       "      <td>5224</td>\n",
       "      <td>-0.000384</td>\n",
       "      <td>0</td>\n",
       "    </tr>\n",
       "  </tbody>\n",
       "</table>\n",
       "</div>"
      ],
      "text/plain": [
       "        purchase_value  device_id  ip_address  tot_time  is_fraud\n",
       "102999            32.0      95522       98104 -0.000559         1\n",
       "107804            63.0      99824      102638 -0.000371         1\n",
       "74016             11.0      69380       70666 -0.001954         0\n",
       "55019             13.0      51988       52699 -0.000400         0\n",
       "5286              20.0       5219        5224 -0.000384         0"
      ]
     },
     "execution_count": 10,
     "metadata": {},
     "output_type": "execute_result"
    }
   ],
   "source": [
    "data = pd.read_csv('data_test.csv',index_col=0)\n",
    "X_test = data.drop(\"is_fraud\",axis=1)\n",
    "y_test = data[\"is_fraud\"]\n",
    "data.head(5)"
   ]
  },
  {
   "cell_type": "code",
   "execution_count": 11,
   "id": "be0353a1",
   "metadata": {},
   "outputs": [
    {
     "name": "stdout",
     "output_type": "stream",
     "text": [
      "The accuracy of the model is: 75.24 %\n",
      "The recall of the model is: 64.14 %\n"
     ]
    }
   ],
   "source": [
    "# Using KNN\n",
    "model_knn = joblib.load('model-knn.joblib')\n",
    "y_pred = model_knn.predict(X_test)\n",
    "score = accuracy_score(y_test,y_pred)\n",
    "rec = recall_score(y_test,y_pred)\n",
    "\n",
    "print(\"The accuracy of the model is:\",round(score*100,2),\"%\")\n",
    "print(\"The recall of the model is:\",round(rec*100,2),\"%\")"
   ]
  },
  {
   "cell_type": "code",
   "execution_count": 12,
   "id": "294f1048",
   "metadata": {},
   "outputs": [
    {
     "name": "stdout",
     "output_type": "stream",
     "text": [
      "The accuracy of the model is: 70.12 %\n",
      "The recall of the model is: 60.41 %\n"
     ]
    }
   ],
   "source": [
    "model_logr = joblib.load('model-logr.joblib')\n",
    "y_pred = model_logr.predict(X_test)\n",
    "score = accuracy_score(y_test,y_pred)\n",
    "rec = recall_score(y_test,y_pred)\n",
    "\n",
    "print(\"The accuracy of the model is:\",round(score*100,2),\"%\")\n",
    "print(\"The recall of the model is:\",round(rec*100,2),\"%\")"
   ]
  },
  {
   "cell_type": "code",
   "execution_count": 13,
   "id": "57b8519a",
   "metadata": {},
   "outputs": [
    {
     "name": "stdout",
     "output_type": "stream",
     "text": [
      "The accuracy of the model is: 78.91 %\n",
      "The recall of the model is: 59.49 %\n"
     ]
    }
   ],
   "source": [
    "model_svm = joblib.load('model-svm.joblib')\n",
    "y_pred = model_svm.predict(X_test)\n",
    "score = accuracy_score(y_test,y_pred)\n",
    "rec = recall_score(y_test,y_pred)\n",
    "\n",
    "print(\"The accuracy of the model is:\",round(score*100,2),\"%\")\n",
    "print(\"The recall of the model is:\",round(rec*100,2),\"%\")"
   ]
  },
  {
   "cell_type": "code",
   "execution_count": null,
   "id": "d6e8d0fb",
   "metadata": {},
   "outputs": [],
   "source": []
  }
 ],
 "metadata": {
  "kernelspec": {
   "display_name": "Python 3 (ipykernel)",
   "language": "python",
   "name": "python3"
  },
  "language_info": {
   "codemirror_mode": {
    "name": "ipython",
    "version": 3
   },
   "file_extension": ".py",
   "mimetype": "text/x-python",
   "name": "python",
   "nbconvert_exporter": "python",
   "pygments_lexer": "ipython3",
   "version": "3.9.7"
  }
 },
 "nbformat": 4,
 "nbformat_minor": 5
}
