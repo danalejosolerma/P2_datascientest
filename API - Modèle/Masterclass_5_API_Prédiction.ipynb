{
  "nbformat": 4,
  "nbformat_minor": 0,
  "metadata": {
    "colab": {
      "name": "Masterclass 5 - API Prédiction.ipynb",
      "provenance": []
    },
    "kernelspec": {
      "name": "python3",
      "display_name": "Python 3"
    },
    "language_info": {
      "name": "python"
    }
  },
  "cells": [
    {
      "cell_type": "markdown",
      "source": [
        "### **Installation librairie fastapi**"
      ],
      "metadata": {
        "id": "9pU9Otye6mfk"
      }
    },
    {
      "cell_type": "code",
      "source": [
        "pip install fastapi"
      ],
      "metadata": {
        "colab": {
          "base_uri": "https://localhost:8080/"
        },
        "id": "qmHwcWNf6dXw",
        "outputId": "43f3abd5-1d75-4b14-9a77-f2f7c2447cfc"
      },
      "execution_count": null,
      "outputs": [
        {
          "output_type": "stream",
          "name": "stdout",
          "text": [
            "Collecting fastapi\n",
            "  Downloading fastapi-0.75.2-py3-none-any.whl (54 kB)\n",
            "\u001b[K     |████████████████████████████████| 54 kB 1.7 MB/s \n",
            "\u001b[?25hCollecting pydantic!=1.7,!=1.7.1,!=1.7.2,!=1.7.3,!=1.8,!=1.8.1,<2.0.0,>=1.6.2\n",
            "  Downloading pydantic-1.9.0-cp37-cp37m-manylinux_2_17_x86_64.manylinux2014_x86_64.whl (10.9 MB)\n",
            "\u001b[K     |████████████████████████████████| 10.9 MB 9.7 MB/s \n",
            "\u001b[?25hCollecting starlette==0.17.1\n",
            "  Downloading starlette-0.17.1-py3-none-any.whl (58 kB)\n",
            "\u001b[K     |████████████████████████████████| 58 kB 5.3 MB/s \n",
            "\u001b[?25hRequirement already satisfied: typing-extensions in /usr/local/lib/python3.7/dist-packages (from starlette==0.17.1->fastapi) (4.1.1)\n",
            "Collecting anyio<4,>=3.0.0\n",
            "  Downloading anyio-3.5.0-py3-none-any.whl (79 kB)\n",
            "\u001b[K     |████████████████████████████████| 79 kB 6.4 MB/s \n",
            "\u001b[?25hRequirement already satisfied: idna>=2.8 in /usr/local/lib/python3.7/dist-packages (from anyio<4,>=3.0.0->starlette==0.17.1->fastapi) (2.10)\n",
            "Collecting sniffio>=1.1\n",
            "  Downloading sniffio-1.2.0-py3-none-any.whl (10 kB)\n",
            "Installing collected packages: sniffio, anyio, starlette, pydantic, fastapi\n",
            "Successfully installed anyio-3.5.0 fastapi-0.75.2 pydantic-1.9.0 sniffio-1.2.0 starlette-0.17.1\n"
          ]
        }
      ]
    },
    {
      "cell_type": "code",
      "execution_count": null,
      "metadata": {
        "colab": {
          "base_uri": "https://localhost:8080/",
          "height": 232
        },
        "id": "iE5qwhyX5uNi",
        "outputId": "765c842f-735b-4f38-df99-3d75d777f756"
      },
      "outputs": [
        {
          "output_type": "error",
          "ename": "FileNotFoundError",
          "evalue": "ignored",
          "traceback": [
            "\u001b[0;31m---------------------------------------------------------------------------\u001b[0m",
            "\u001b[0;31mFileNotFoundError\u001b[0m                         Traceback (most recent call last)",
            "\u001b[0;32m<ipython-input-9-801af0880c46>\u001b[0m in \u001b[0;36m<module>\u001b[0;34m()\u001b[0m\n\u001b[1;32m     26\u001b[0m \u001b[0mapi\u001b[0m \u001b[0;34m=\u001b[0m \u001b[0mFastAPI\u001b[0m\u001b[0;34m(\u001b[0m\u001b[0mtitle\u001b[0m\u001b[0;34m=\u001b[0m\u001b[0;34m'Wine measurement API'\u001b[0m\u001b[0;34m)\u001b[0m\u001b[0;34m\u001b[0m\u001b[0;34m\u001b[0m\u001b[0m\n\u001b[1;32m     27\u001b[0m \u001b[0;34m\u001b[0m\u001b[0m\n\u001b[0;32m---> 28\u001b[0;31m \u001b[0;32mwith\u001b[0m \u001b[0mopen\u001b[0m\u001b[0;34m(\u001b[0m\u001b[0;34m'features.json'\u001b[0m\u001b[0;34m,\u001b[0m \u001b[0;34m'r'\u001b[0m\u001b[0;34m)\u001b[0m \u001b[0;32mas\u001b[0m \u001b[0mf\u001b[0m \u001b[0;34m:\u001b[0m\u001b[0;34m\u001b[0m\u001b[0;34m\u001b[0m\u001b[0m\n\u001b[0m\u001b[1;32m     29\u001b[0m     \u001b[0mfeatures\u001b[0m \u001b[0;34m=\u001b[0m \u001b[0mjson\u001b[0m\u001b[0;34m.\u001b[0m\u001b[0mload\u001b[0m\u001b[0;34m(\u001b[0m\u001b[0mf\u001b[0m\u001b[0;34m)\u001b[0m\u001b[0;34m\u001b[0m\u001b[0;34m\u001b[0m\u001b[0m\n\u001b[1;32m     30\u001b[0m \u001b[0;34m\u001b[0m\u001b[0m\n",
            "\u001b[0;31mFileNotFoundError\u001b[0m: [Errno 2] No such file or directory: 'features.json'"
          ]
        }
      ],
      "source": [
        "from pickle import FLOAT\n",
        "from fastapi import FastAPI\n",
        "from pydantic import BaseModel\n",
        "import pandas as pd\n",
        "import joblib\n",
        "import json\n",
        "\n",
        "\n",
        "class WineMeasurementData(BaseModel):\n",
        "  alcohol : float\n",
        "  flavanoids : float\n",
        "  proline : float\n",
        "  color_intensity : float\n",
        "  hue : float\n",
        "\n",
        "class WineTypePredictionProba(BaseModel):\n",
        "  class_0 : float\n",
        "  class_1 : float\n",
        "  class_2 : float\n",
        "  \n",
        "class WineTypePredictionResponse(BaseModel):\n",
        "  predicted_class : int\n",
        "  proba : WineTypePredictionProba \n",
        "\n",
        "\n",
        "api = FastAPI(title='Wine measurement API')\n",
        "\n",
        "with open('features.json', 'r') as f :\n",
        "    features = json.load(f)\n",
        "\n",
        "classifier = joblib.load('classifier.joblib')\n",
        "\n",
        "\n",
        "@api.get(\"/status\", tags=['general'])\n",
        "def status() :\n",
        "  return 1\n",
        "\n",
        "@api.get(\"/features\")\n",
        "def get_features() :\n",
        "  return get_features\n",
        "\n",
        "@api.get(\"/hello\")\n",
        "def hello(name : str) :\n",
        "  return \"Hello {name}\"\n",
        "\n",
        "@api.post(\"/prediction\", tags = ['prediction'], response_model=WineTypePredictionResponse)\n",
        "def make_prediction(data : WineMeasurementData) :\n",
        "\n",
        "  data = pd.DataFrame([data.dict()])\n",
        "  data = data[features]\n",
        "  predicted_class = classifier.predict(data)[0]\n",
        "  predicted_proba = classifier.predict_proba(data)[0].to_list()\n",
        "\n",
        "  return {\n",
        "      'predicted_class' : int(predicted_class),\n",
        "      'proba' : {\n",
        "          'class_0' : predicted_proba[0],\n",
        "          'class_1' : predicted_proba[1],\n",
        "          'class_2' : predicted_proba[2],\n",
        "      },\n",
        "  }          "
      ]
    },
    {
      "cell_type": "markdown",
      "source": [
        "## **Codage de l'API**"
      ],
      "metadata": {
        "id": "TPV5Ikrp6lDT"
      }
    },
    {
      "cell_type": "code",
      "source": [
        "name = 'martin'\n",
        "print(f\"Hello {name}!\")"
      ],
      "metadata": {
        "colab": {
          "base_uri": "https://localhost:8080/"
        },
        "id": "hKxf-lWm6Wdm",
        "outputId": "6924b02f-d24a-4536-9d05-3834225064ec"
      },
      "execution_count": null,
      "outputs": [
        {
          "output_type": "stream",
          "name": "stdout",
          "text": [
            "Hello martin!\n"
          ]
        }
      ]
    },
    {
      "cell_type": "code",
      "source": [
        ""
      ],
      "metadata": {
        "id": "uar6AO5VH7xs"
      },
      "execution_count": null,
      "outputs": []
    }
  ]
}